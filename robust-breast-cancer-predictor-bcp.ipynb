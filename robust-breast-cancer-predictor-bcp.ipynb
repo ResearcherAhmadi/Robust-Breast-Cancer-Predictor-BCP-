{
 "cells": [
  {
   "cell_type": "markdown",
   "id": "d91ddcd1",
   "metadata": {
    "papermill": {
     "duration": 0.00909,
     "end_time": "2024-07-07T01:57:23.153298",
     "exception": false,
     "start_time": "2024-07-07T01:57:23.144208",
     "status": "completed"
    },
    "tags": []
   },
   "source": [
    "# Robust Breast Cancer Predictor (BCP)"
   ]
  },
  {
   "cell_type": "markdown",
   "id": "4e63ee86",
   "metadata": {
    "papermill": {
     "duration": 0.008309,
     "end_time": "2024-07-07T01:57:23.170500",
     "exception": false,
     "start_time": "2024-07-07T01:57:23.162191",
     "status": "completed"
    },
    "tags": []
   },
   "source": [
    "### About Dataset\n",
    "##### Features are computed from a digitized image of a fine needle aspirate (FNA) of a breast mass. ##### They describe characteristics of the cell nuclei present in the image.\n",
    "##### n the 3-dimensional space is that described in: [K. P. Bennett and O. L. Mangasarian: \"Robust Linear Programming Discrimination of Two Linearly Inseparable Sets\", Optimization Methods and Software 1, 1992, 23-34].\n",
    "\n",
    "##### This database is also available through the UW CS ftp server:\n",
    "##### ftp ftp.cs.wisc.edu\n",
    "##### cd math-prog/cpo-dataset/machine-learn/WDBC/\n",
    "\n",
    "##### Also can be found on UCI Machine Learning Repository: https://archive.ics.uci.edu/ml/datasets/Breast+Cancer+Wisconsin+%28Diagnostic%29\n",
    "\n",
    "### Attribute Information:\n",
    "\n",
    "##### 1) ID number\n",
    "##### 2) Diagnosis (M = malignant, B = benign)\n",
    "##### 3) 32\n",
    "\n",
    "### Ten real-valued features are computed for each cell nucleus:\n",
    "\n",
    "##### a) radius (mean of distances from center to points on the perimeter)\n",
    "##### b) texture (standard deviation of gray-scale values)\n",
    "##### c) perimeter\n",
    "##### d) area\n",
    "##### e) smoothness (local variation in radius lengths)\n",
    "##### f) compactness (perimeter^2 / area - 1.0)\n",
    "##### g) concavity (severity of concave portions of the contour)\n",
    "##### h) concave points (number of concave portions of the contour)\n",
    "##### i) symmetry\n",
    "##### j) fractal dimension (\"coastline approximation\" - 1)\n",
    "\n",
    "##### The mean, standard error and \"worst\" or largest (mean of the three\n",
    "##### largest values) of these features were computed for each image,\n",
    "##### resulting in 30 features. For instance, field 3 is Mean Radius, field\n",
    "##### 13 is Radius SE, field 23 is Worst Radius.\n",
    "\n",
    "##### All feature values are recoded with four significant digits.\n",
    "\n",
    "##### Missing attribute values: none\n",
    "\n",
    "##### Class distribution: 357 benign, 212 malignant"
   ]
  },
  {
   "cell_type": "markdown",
   "id": "e67da2ff",
   "metadata": {
    "papermill": {
     "duration": 0.008261,
     "end_time": "2024-07-07T01:57:23.187530",
     "exception": false,
     "start_time": "2024-07-07T01:57:23.179269",
     "status": "completed"
    },
    "tags": []
   },
   "source": [
    "# Step 1: Input Libraries"
   ]
  },
  {
   "cell_type": "code",
   "execution_count": 1,
   "id": "afd9ae6c",
   "metadata": {
    "_cell_guid": "b1076dfc-b9ad-4769-8c92-a6c4dae69d19",
    "_uuid": "8f2839f25d086af736a60e9eeb907d3b93b6e0e5",
    "execution": {
     "iopub.execute_input": "2024-07-07T01:57:23.206743Z",
     "iopub.status.busy": "2024-07-07T01:57:23.206345Z",
     "iopub.status.idle": "2024-07-07T01:57:23.218061Z",
     "shell.execute_reply": "2024-07-07T01:57:23.216897Z"
    },
    "papermill": {
     "duration": 0.02434,
     "end_time": "2024-07-07T01:57:23.220427",
     "exception": false,
     "start_time": "2024-07-07T01:57:23.196087",
     "status": "completed"
    },
    "tags": []
   },
   "outputs": [],
   "source": [
    "import warnings\n",
    "warnings.filterwarnings(\"ignore\")"
   ]
  },
  {
   "cell_type": "code",
   "execution_count": 2,
   "id": "26a25b70",
   "metadata": {
    "execution": {
     "iopub.execute_input": "2024-07-07T01:57:23.239604Z",
     "iopub.status.busy": "2024-07-07T01:57:23.239195Z",
     "iopub.status.idle": "2024-07-07T01:57:25.858905Z",
     "shell.execute_reply": "2024-07-07T01:57:25.857751Z"
    },
    "papermill": {
     "duration": 2.632123,
     "end_time": "2024-07-07T01:57:25.861357",
     "exception": false,
     "start_time": "2024-07-07T01:57:23.229234",
     "status": "completed"
    },
    "tags": []
   },
   "outputs": [],
   "source": [
    "import pandas as pd\n",
    "from sklearn.ensemble import RandomForestClassifier\n",
    "from sklearn.metrics import accuracy_score, mean_squared_error, confusion_matrix, precision_score, recall_score, f1_score, roc_auc_score\n",
    "from sklearn.model_selection import train_test_split, GridSearchCV\n",
    "import matplotlib.pyplot as plt\n",
    "import numpy as np\n",
    "from sklearn.svm import SVC"
   ]
  },
  {
   "cell_type": "markdown",
   "id": "f5002bfd",
   "metadata": {
    "papermill": {
     "duration": 0.00956,
     "end_time": "2024-07-07T01:57:25.879682",
     "exception": false,
     "start_time": "2024-07-07T01:57:25.870122",
     "status": "completed"
    },
    "tags": []
   },
   "source": [
    "# Step 2: Load and Prepare the Dataset"
   ]
  },
  {
   "cell_type": "code",
   "execution_count": 3,
   "id": "0a03a953",
   "metadata": {
    "execution": {
     "iopub.execute_input": "2024-07-07T01:57:25.898542Z",
     "iopub.status.busy": "2024-07-07T01:57:25.898025Z",
     "iopub.status.idle": "2024-07-07T01:57:25.977646Z",
     "shell.execute_reply": "2024-07-07T01:57:25.976526Z"
    },
    "papermill": {
     "duration": 0.091581,
     "end_time": "2024-07-07T01:57:25.979937",
     "exception": false,
     "start_time": "2024-07-07T01:57:25.888356",
     "status": "completed"
    },
    "tags": []
   },
   "outputs": [
    {
     "data": {
      "text/html": [
       "<div>\n",
       "<style scoped>\n",
       "    .dataframe tbody tr th:only-of-type {\n",
       "        vertical-align: middle;\n",
       "    }\n",
       "\n",
       "    .dataframe tbody tr th {\n",
       "        vertical-align: top;\n",
       "    }\n",
       "\n",
       "    .dataframe thead th {\n",
       "        text-align: right;\n",
       "    }\n",
       "</style>\n",
       "<table border=\"1\" class=\"dataframe\">\n",
       "  <thead>\n",
       "    <tr style=\"text-align: right;\">\n",
       "      <th></th>\n",
       "      <th>id</th>\n",
       "      <th>diagnosis</th>\n",
       "      <th>radius_mean</th>\n",
       "      <th>texture_mean</th>\n",
       "      <th>perimeter_mean</th>\n",
       "      <th>area_mean</th>\n",
       "      <th>smoothness_mean</th>\n",
       "      <th>compactness_mean</th>\n",
       "      <th>concavity_mean</th>\n",
       "      <th>concave points_mean</th>\n",
       "      <th>...</th>\n",
       "      <th>texture_worst</th>\n",
       "      <th>perimeter_worst</th>\n",
       "      <th>area_worst</th>\n",
       "      <th>smoothness_worst</th>\n",
       "      <th>compactness_worst</th>\n",
       "      <th>concavity_worst</th>\n",
       "      <th>concave points_worst</th>\n",
       "      <th>symmetry_worst</th>\n",
       "      <th>fractal_dimension_worst</th>\n",
       "      <th>Unnamed: 32</th>\n",
       "    </tr>\n",
       "  </thead>\n",
       "  <tbody>\n",
       "    <tr>\n",
       "      <th>0</th>\n",
       "      <td>842302</td>\n",
       "      <td>M</td>\n",
       "      <td>17.99</td>\n",
       "      <td>10.38</td>\n",
       "      <td>122.80</td>\n",
       "      <td>1001.0</td>\n",
       "      <td>0.11840</td>\n",
       "      <td>0.27760</td>\n",
       "      <td>0.30010</td>\n",
       "      <td>0.14710</td>\n",
       "      <td>...</td>\n",
       "      <td>17.33</td>\n",
       "      <td>184.60</td>\n",
       "      <td>2019.0</td>\n",
       "      <td>0.16220</td>\n",
       "      <td>0.66560</td>\n",
       "      <td>0.7119</td>\n",
       "      <td>0.2654</td>\n",
       "      <td>0.4601</td>\n",
       "      <td>0.11890</td>\n",
       "      <td>NaN</td>\n",
       "    </tr>\n",
       "    <tr>\n",
       "      <th>1</th>\n",
       "      <td>842517</td>\n",
       "      <td>M</td>\n",
       "      <td>20.57</td>\n",
       "      <td>17.77</td>\n",
       "      <td>132.90</td>\n",
       "      <td>1326.0</td>\n",
       "      <td>0.08474</td>\n",
       "      <td>0.07864</td>\n",
       "      <td>0.08690</td>\n",
       "      <td>0.07017</td>\n",
       "      <td>...</td>\n",
       "      <td>23.41</td>\n",
       "      <td>158.80</td>\n",
       "      <td>1956.0</td>\n",
       "      <td>0.12380</td>\n",
       "      <td>0.18660</td>\n",
       "      <td>0.2416</td>\n",
       "      <td>0.1860</td>\n",
       "      <td>0.2750</td>\n",
       "      <td>0.08902</td>\n",
       "      <td>NaN</td>\n",
       "    </tr>\n",
       "    <tr>\n",
       "      <th>2</th>\n",
       "      <td>84300903</td>\n",
       "      <td>M</td>\n",
       "      <td>19.69</td>\n",
       "      <td>21.25</td>\n",
       "      <td>130.00</td>\n",
       "      <td>1203.0</td>\n",
       "      <td>0.10960</td>\n",
       "      <td>0.15990</td>\n",
       "      <td>0.19740</td>\n",
       "      <td>0.12790</td>\n",
       "      <td>...</td>\n",
       "      <td>25.53</td>\n",
       "      <td>152.50</td>\n",
       "      <td>1709.0</td>\n",
       "      <td>0.14440</td>\n",
       "      <td>0.42450</td>\n",
       "      <td>0.4504</td>\n",
       "      <td>0.2430</td>\n",
       "      <td>0.3613</td>\n",
       "      <td>0.08758</td>\n",
       "      <td>NaN</td>\n",
       "    </tr>\n",
       "    <tr>\n",
       "      <th>3</th>\n",
       "      <td>84348301</td>\n",
       "      <td>M</td>\n",
       "      <td>11.42</td>\n",
       "      <td>20.38</td>\n",
       "      <td>77.58</td>\n",
       "      <td>386.1</td>\n",
       "      <td>0.14250</td>\n",
       "      <td>0.28390</td>\n",
       "      <td>0.24140</td>\n",
       "      <td>0.10520</td>\n",
       "      <td>...</td>\n",
       "      <td>26.50</td>\n",
       "      <td>98.87</td>\n",
       "      <td>567.7</td>\n",
       "      <td>0.20980</td>\n",
       "      <td>0.86630</td>\n",
       "      <td>0.6869</td>\n",
       "      <td>0.2575</td>\n",
       "      <td>0.6638</td>\n",
       "      <td>0.17300</td>\n",
       "      <td>NaN</td>\n",
       "    </tr>\n",
       "    <tr>\n",
       "      <th>4</th>\n",
       "      <td>84358402</td>\n",
       "      <td>M</td>\n",
       "      <td>20.29</td>\n",
       "      <td>14.34</td>\n",
       "      <td>135.10</td>\n",
       "      <td>1297.0</td>\n",
       "      <td>0.10030</td>\n",
       "      <td>0.13280</td>\n",
       "      <td>0.19800</td>\n",
       "      <td>0.10430</td>\n",
       "      <td>...</td>\n",
       "      <td>16.67</td>\n",
       "      <td>152.20</td>\n",
       "      <td>1575.0</td>\n",
       "      <td>0.13740</td>\n",
       "      <td>0.20500</td>\n",
       "      <td>0.4000</td>\n",
       "      <td>0.1625</td>\n",
       "      <td>0.2364</td>\n",
       "      <td>0.07678</td>\n",
       "      <td>NaN</td>\n",
       "    </tr>\n",
       "    <tr>\n",
       "      <th>...</th>\n",
       "      <td>...</td>\n",
       "      <td>...</td>\n",
       "      <td>...</td>\n",
       "      <td>...</td>\n",
       "      <td>...</td>\n",
       "      <td>...</td>\n",
       "      <td>...</td>\n",
       "      <td>...</td>\n",
       "      <td>...</td>\n",
       "      <td>...</td>\n",
       "      <td>...</td>\n",
       "      <td>...</td>\n",
       "      <td>...</td>\n",
       "      <td>...</td>\n",
       "      <td>...</td>\n",
       "      <td>...</td>\n",
       "      <td>...</td>\n",
       "      <td>...</td>\n",
       "      <td>...</td>\n",
       "      <td>...</td>\n",
       "      <td>...</td>\n",
       "    </tr>\n",
       "    <tr>\n",
       "      <th>564</th>\n",
       "      <td>926424</td>\n",
       "      <td>M</td>\n",
       "      <td>21.56</td>\n",
       "      <td>22.39</td>\n",
       "      <td>142.00</td>\n",
       "      <td>1479.0</td>\n",
       "      <td>0.11100</td>\n",
       "      <td>0.11590</td>\n",
       "      <td>0.24390</td>\n",
       "      <td>0.13890</td>\n",
       "      <td>...</td>\n",
       "      <td>26.40</td>\n",
       "      <td>166.10</td>\n",
       "      <td>2027.0</td>\n",
       "      <td>0.14100</td>\n",
       "      <td>0.21130</td>\n",
       "      <td>0.4107</td>\n",
       "      <td>0.2216</td>\n",
       "      <td>0.2060</td>\n",
       "      <td>0.07115</td>\n",
       "      <td>NaN</td>\n",
       "    </tr>\n",
       "    <tr>\n",
       "      <th>565</th>\n",
       "      <td>926682</td>\n",
       "      <td>M</td>\n",
       "      <td>20.13</td>\n",
       "      <td>28.25</td>\n",
       "      <td>131.20</td>\n",
       "      <td>1261.0</td>\n",
       "      <td>0.09780</td>\n",
       "      <td>0.10340</td>\n",
       "      <td>0.14400</td>\n",
       "      <td>0.09791</td>\n",
       "      <td>...</td>\n",
       "      <td>38.25</td>\n",
       "      <td>155.00</td>\n",
       "      <td>1731.0</td>\n",
       "      <td>0.11660</td>\n",
       "      <td>0.19220</td>\n",
       "      <td>0.3215</td>\n",
       "      <td>0.1628</td>\n",
       "      <td>0.2572</td>\n",
       "      <td>0.06637</td>\n",
       "      <td>NaN</td>\n",
       "    </tr>\n",
       "    <tr>\n",
       "      <th>566</th>\n",
       "      <td>926954</td>\n",
       "      <td>M</td>\n",
       "      <td>16.60</td>\n",
       "      <td>28.08</td>\n",
       "      <td>108.30</td>\n",
       "      <td>858.1</td>\n",
       "      <td>0.08455</td>\n",
       "      <td>0.10230</td>\n",
       "      <td>0.09251</td>\n",
       "      <td>0.05302</td>\n",
       "      <td>...</td>\n",
       "      <td>34.12</td>\n",
       "      <td>126.70</td>\n",
       "      <td>1124.0</td>\n",
       "      <td>0.11390</td>\n",
       "      <td>0.30940</td>\n",
       "      <td>0.3403</td>\n",
       "      <td>0.1418</td>\n",
       "      <td>0.2218</td>\n",
       "      <td>0.07820</td>\n",
       "      <td>NaN</td>\n",
       "    </tr>\n",
       "    <tr>\n",
       "      <th>567</th>\n",
       "      <td>927241</td>\n",
       "      <td>M</td>\n",
       "      <td>20.60</td>\n",
       "      <td>29.33</td>\n",
       "      <td>140.10</td>\n",
       "      <td>1265.0</td>\n",
       "      <td>0.11780</td>\n",
       "      <td>0.27700</td>\n",
       "      <td>0.35140</td>\n",
       "      <td>0.15200</td>\n",
       "      <td>...</td>\n",
       "      <td>39.42</td>\n",
       "      <td>184.60</td>\n",
       "      <td>1821.0</td>\n",
       "      <td>0.16500</td>\n",
       "      <td>0.86810</td>\n",
       "      <td>0.9387</td>\n",
       "      <td>0.2650</td>\n",
       "      <td>0.4087</td>\n",
       "      <td>0.12400</td>\n",
       "      <td>NaN</td>\n",
       "    </tr>\n",
       "    <tr>\n",
       "      <th>568</th>\n",
       "      <td>92751</td>\n",
       "      <td>B</td>\n",
       "      <td>7.76</td>\n",
       "      <td>24.54</td>\n",
       "      <td>47.92</td>\n",
       "      <td>181.0</td>\n",
       "      <td>0.05263</td>\n",
       "      <td>0.04362</td>\n",
       "      <td>0.00000</td>\n",
       "      <td>0.00000</td>\n",
       "      <td>...</td>\n",
       "      <td>30.37</td>\n",
       "      <td>59.16</td>\n",
       "      <td>268.6</td>\n",
       "      <td>0.08996</td>\n",
       "      <td>0.06444</td>\n",
       "      <td>0.0000</td>\n",
       "      <td>0.0000</td>\n",
       "      <td>0.2871</td>\n",
       "      <td>0.07039</td>\n",
       "      <td>NaN</td>\n",
       "    </tr>\n",
       "  </tbody>\n",
       "</table>\n",
       "<p>569 rows × 33 columns</p>\n",
       "</div>"
      ],
      "text/plain": [
       "           id diagnosis  radius_mean  texture_mean  perimeter_mean  area_mean  \\\n",
       "0      842302         M        17.99         10.38          122.80     1001.0   \n",
       "1      842517         M        20.57         17.77          132.90     1326.0   \n",
       "2    84300903         M        19.69         21.25          130.00     1203.0   \n",
       "3    84348301         M        11.42         20.38           77.58      386.1   \n",
       "4    84358402         M        20.29         14.34          135.10     1297.0   \n",
       "..        ...       ...          ...           ...             ...        ...   \n",
       "564    926424         M        21.56         22.39          142.00     1479.0   \n",
       "565    926682         M        20.13         28.25          131.20     1261.0   \n",
       "566    926954         M        16.60         28.08          108.30      858.1   \n",
       "567    927241         M        20.60         29.33          140.10     1265.0   \n",
       "568     92751         B         7.76         24.54           47.92      181.0   \n",
       "\n",
       "     smoothness_mean  compactness_mean  concavity_mean  concave points_mean  \\\n",
       "0            0.11840           0.27760         0.30010              0.14710   \n",
       "1            0.08474           0.07864         0.08690              0.07017   \n",
       "2            0.10960           0.15990         0.19740              0.12790   \n",
       "3            0.14250           0.28390         0.24140              0.10520   \n",
       "4            0.10030           0.13280         0.19800              0.10430   \n",
       "..               ...               ...             ...                  ...   \n",
       "564          0.11100           0.11590         0.24390              0.13890   \n",
       "565          0.09780           0.10340         0.14400              0.09791   \n",
       "566          0.08455           0.10230         0.09251              0.05302   \n",
       "567          0.11780           0.27700         0.35140              0.15200   \n",
       "568          0.05263           0.04362         0.00000              0.00000   \n",
       "\n",
       "     ...  texture_worst  perimeter_worst  area_worst  smoothness_worst  \\\n",
       "0    ...          17.33           184.60      2019.0           0.16220   \n",
       "1    ...          23.41           158.80      1956.0           0.12380   \n",
       "2    ...          25.53           152.50      1709.0           0.14440   \n",
       "3    ...          26.50            98.87       567.7           0.20980   \n",
       "4    ...          16.67           152.20      1575.0           0.13740   \n",
       "..   ...            ...              ...         ...               ...   \n",
       "564  ...          26.40           166.10      2027.0           0.14100   \n",
       "565  ...          38.25           155.00      1731.0           0.11660   \n",
       "566  ...          34.12           126.70      1124.0           0.11390   \n",
       "567  ...          39.42           184.60      1821.0           0.16500   \n",
       "568  ...          30.37            59.16       268.6           0.08996   \n",
       "\n",
       "     compactness_worst  concavity_worst  concave points_worst  symmetry_worst  \\\n",
       "0              0.66560           0.7119                0.2654          0.4601   \n",
       "1              0.18660           0.2416                0.1860          0.2750   \n",
       "2              0.42450           0.4504                0.2430          0.3613   \n",
       "3              0.86630           0.6869                0.2575          0.6638   \n",
       "4              0.20500           0.4000                0.1625          0.2364   \n",
       "..                 ...              ...                   ...             ...   \n",
       "564            0.21130           0.4107                0.2216          0.2060   \n",
       "565            0.19220           0.3215                0.1628          0.2572   \n",
       "566            0.30940           0.3403                0.1418          0.2218   \n",
       "567            0.86810           0.9387                0.2650          0.4087   \n",
       "568            0.06444           0.0000                0.0000          0.2871   \n",
       "\n",
       "     fractal_dimension_worst  Unnamed: 32  \n",
       "0                    0.11890          NaN  \n",
       "1                    0.08902          NaN  \n",
       "2                    0.08758          NaN  \n",
       "3                    0.17300          NaN  \n",
       "4                    0.07678          NaN  \n",
       "..                       ...          ...  \n",
       "564                  0.07115          NaN  \n",
       "565                  0.06637          NaN  \n",
       "566                  0.07820          NaN  \n",
       "567                  0.12400          NaN  \n",
       "568                  0.07039          NaN  \n",
       "\n",
       "[569 rows x 33 columns]"
      ]
     },
     "execution_count": 3,
     "metadata": {},
     "output_type": "execute_result"
    }
   ],
   "source": [
    "# Load dataset\n",
    "df = pd.read_csv('/kaggle/input/breast-cancer-wisconsin-data/data.csv')\n",
    "df"
   ]
  },
  {
   "cell_type": "code",
   "execution_count": 4,
   "id": "befcc673",
   "metadata": {
    "execution": {
     "iopub.execute_input": "2024-07-07T01:57:26.000539Z",
     "iopub.status.busy": "2024-07-07T01:57:25.999749Z",
     "iopub.status.idle": "2024-07-07T01:57:26.006040Z",
     "shell.execute_reply": "2024-07-07T01:57:26.004931Z"
    },
    "papermill": {
     "duration": 0.019325,
     "end_time": "2024-07-07T01:57:26.008515",
     "exception": false,
     "start_time": "2024-07-07T01:57:25.989190",
     "status": "completed"
    },
    "tags": []
   },
   "outputs": [],
   "source": [
    "# Map 'M' (malignant) to 1 and 'B' (benign) to 0\n",
    "df['diagnosis'] = df['diagnosis'].map({'M': 1, 'B': 0})"
   ]
  },
  {
   "cell_type": "code",
   "execution_count": 5,
   "id": "ac0c8347",
   "metadata": {
    "execution": {
     "iopub.execute_input": "2024-07-07T01:57:26.029505Z",
     "iopub.status.busy": "2024-07-07T01:57:26.029116Z",
     "iopub.status.idle": "2024-07-07T01:57:26.035017Z",
     "shell.execute_reply": "2024-07-07T01:57:26.033849Z"
    },
    "papermill": {
     "duration": 0.018859,
     "end_time": "2024-07-07T01:57:26.037583",
     "exception": false,
     "start_time": "2024-07-07T01:57:26.018724",
     "status": "completed"
    },
    "tags": []
   },
   "outputs": [],
   "source": [
    "# Drop unnecessary columns\n",
    "df = df.drop(columns=['id', 'Unnamed: 32'])"
   ]
  },
  {
   "cell_type": "markdown",
   "id": "13e01dc5",
   "metadata": {
    "papermill": {
     "duration": 0.008971,
     "end_time": "2024-07-07T01:57:26.056497",
     "exception": false,
     "start_time": "2024-07-07T01:57:26.047526",
     "status": "completed"
    },
    "tags": []
   },
   "source": [
    "# Step 3: Handle Missing Values"
   ]
  },
  {
   "cell_type": "code",
   "execution_count": 6,
   "id": "b38da4b3",
   "metadata": {
    "execution": {
     "iopub.execute_input": "2024-07-07T01:57:26.076980Z",
     "iopub.status.busy": "2024-07-07T01:57:26.076221Z",
     "iopub.status.idle": "2024-07-07T01:57:26.085010Z",
     "shell.execute_reply": "2024-07-07T01:57:26.083762Z"
    },
    "papermill": {
     "duration": 0.021733,
     "end_time": "2024-07-07T01:57:26.087437",
     "exception": false,
     "start_time": "2024-07-07T01:57:26.065704",
     "status": "completed"
    },
    "tags": []
   },
   "outputs": [
    {
     "name": "stdout",
     "output_type": "stream",
     "text": [
      "Missing values in 'diagnosis': 0\n"
     ]
    }
   ],
   "source": [
    "# Check for missing values in the target variable\n",
    "print(\"Missing values in 'diagnosis':\", df['diagnosis'].isna().sum())"
   ]
  },
  {
   "cell_type": "code",
   "execution_count": 7,
   "id": "44ba88a4",
   "metadata": {
    "execution": {
     "iopub.execute_input": "2024-07-07T01:57:26.107518Z",
     "iopub.status.busy": "2024-07-07T01:57:26.107117Z",
     "iopub.status.idle": "2024-07-07T01:57:26.114645Z",
     "shell.execute_reply": "2024-07-07T01:57:26.113539Z"
    },
    "papermill": {
     "duration": 0.02031,
     "end_time": "2024-07-07T01:57:26.117115",
     "exception": false,
     "start_time": "2024-07-07T01:57:26.096805",
     "status": "completed"
    },
    "tags": []
   },
   "outputs": [],
   "source": [
    "# Drop rows with missing target values\n",
    "df = df.dropna(subset=['diagnosis'])"
   ]
  },
  {
   "cell_type": "markdown",
   "id": "9a5dde50",
   "metadata": {
    "papermill": {
     "duration": 0.008956,
     "end_time": "2024-07-07T01:57:26.135656",
     "exception": false,
     "start_time": "2024-07-07T01:57:26.126700",
     "status": "completed"
    },
    "tags": []
   },
   "source": [
    "# Step 4: Define Features and Split the Dataset"
   ]
  },
  {
   "cell_type": "code",
   "execution_count": 8,
   "id": "4d0fc4be",
   "metadata": {
    "execution": {
     "iopub.execute_input": "2024-07-07T01:57:26.155731Z",
     "iopub.status.busy": "2024-07-07T01:57:26.155326Z",
     "iopub.status.idle": "2024-07-07T01:57:26.162160Z",
     "shell.execute_reply": "2024-07-07T01:57:26.160965Z"
    },
    "papermill": {
     "duration": 0.019439,
     "end_time": "2024-07-07T01:57:26.164326",
     "exception": false,
     "start_time": "2024-07-07T01:57:26.144887",
     "status": "completed"
    },
    "tags": []
   },
   "outputs": [],
   "source": [
    "# Define feature columns\n",
    "features = ['radius_mean', 'texture_mean', 'perimeter_mean', 'area_mean', 'smoothness_mean',\n",
    "            'compactness_mean', 'concavity_mean', 'concave points_mean',\n",
    "            'texture_worst', 'perimeter_worst', 'area_worst', 'smoothness_worst',\n",
    "            'compactness_worst', 'concavity_worst', 'concave points_worst',\n",
    "            'symmetry_worst', 'fractal_dimension_worst']\n",
    "X = df[features]\n",
    "y = df['diagnosis']"
   ]
  },
  {
   "cell_type": "code",
   "execution_count": 9,
   "id": "b7a4f9aa",
   "metadata": {
    "execution": {
     "iopub.execute_input": "2024-07-07T01:57:26.184525Z",
     "iopub.status.busy": "2024-07-07T01:57:26.184123Z",
     "iopub.status.idle": "2024-07-07T01:57:26.192860Z",
     "shell.execute_reply": "2024-07-07T01:57:26.191679Z"
    },
    "papermill": {
     "duration": 0.021386,
     "end_time": "2024-07-07T01:57:26.195142",
     "exception": false,
     "start_time": "2024-07-07T01:57:26.173756",
     "status": "completed"
    },
    "tags": []
   },
   "outputs": [],
   "source": [
    "# Split the dataset into training and testing sets\n",
    "X_train, X_test, y_train, y_test = train_test_split(X, y, test_size=0.2, random_state=42)"
   ]
  },
  {
   "cell_type": "markdown",
   "id": "ecf92b7f",
   "metadata": {
    "papermill": {
     "duration": 0.008822,
     "end_time": "2024-07-07T01:57:26.213343",
     "exception": false,
     "start_time": "2024-07-07T01:57:26.204521",
     "status": "completed"
    },
    "tags": []
   },
   "source": [
    "# Step 5: Define the Classes"
   ]
  },
  {
   "cell_type": "code",
   "execution_count": 10,
   "id": "5f9c0700",
   "metadata": {
    "execution": {
     "iopub.execute_input": "2024-07-07T01:57:26.233761Z",
     "iopub.status.busy": "2024-07-07T01:57:26.233325Z",
     "iopub.status.idle": "2024-07-07T01:57:26.240427Z",
     "shell.execute_reply": "2024-07-07T01:57:26.239167Z"
    },
    "papermill": {
     "duration": 0.020014,
     "end_time": "2024-07-07T01:57:26.242825",
     "exception": false,
     "start_time": "2024-07-07T01:57:26.222811",
     "status": "completed"
    },
    "tags": []
   },
   "outputs": [],
   "source": [
    "class DynamicAdaptiveLearner:\n",
    "    def __init__(self):\n",
    "        self.classifier = RandomForestClassifier()\n",
    "\n",
    "    def fit(self, X, y):\n",
    "        print(\"Fitting model...\")\n",
    "        self.classifier.fit(X, y)\n",
    "\n",
    "    def predict(self, X):\n",
    "        return self.classifier.predict(X)\n",
    "\n",
    "    def predict_proba(self, X):\n",
    "        return self.classifier.predict_proba(X)"
   ]
  },
  {
   "cell_type": "code",
   "execution_count": 11,
   "id": "77f68f50",
   "metadata": {
    "execution": {
     "iopub.execute_input": "2024-07-07T01:57:26.262858Z",
     "iopub.status.busy": "2024-07-07T01:57:26.262493Z",
     "iopub.status.idle": "2024-07-07T01:57:26.270570Z",
     "shell.execute_reply": "2024-07-07T01:57:26.269472Z"
    },
    "papermill": {
     "duration": 0.02069,
     "end_time": "2024-07-07T01:57:26.272883",
     "exception": false,
     "start_time": "2024-07-07T01:57:26.252193",
     "status": "completed"
    },
    "tags": []
   },
   "outputs": [],
   "source": [
    "class AdaptiveIncrementalLearningForDynamicEnvironments:\n",
    "    def __init__(self, base_classifier):\n",
    "        self.base_classifier = base_classifier\n",
    "        self.current_round = 0\n",
    "        self.X_buffer = []\n",
    "        self.y_buffer = []\n",
    "\n",
    "    def _update_classifier(self):\n",
    "        if self.X_buffer:\n",
    "            print(f\"Updating classifier at round {self.current_round}...\")\n",
    "            self.base_classifier.fit(self.X_buffer, self.y_buffer)\n",
    "            self.X_buffer = []\n",
    "            self.y_buffer = []\n",
    "\n",
    "    def passive_learn(self, X, y):\n",
    "        for x, label in zip(X.values, y.values):\n",
    "            self.X_buffer.append(x)\n",
    "            self.y_buffer.append(label)\n",
    "        self._update_classifier()\n",
    "        self.current_round += 1\n",
    "\n",
    "    def predict(self, X):\n",
    "        return self.base_classifier.predict(X)\n",
    "\n",
    "    def predict_proba(self, X):\n",
    "        return self.base_classifier.predict_proba(X)"
   ]
  },
  {
   "cell_type": "code",
   "execution_count": 12,
   "id": "dc1ea8a1",
   "metadata": {
    "execution": {
     "iopub.execute_input": "2024-07-07T01:57:26.293278Z",
     "iopub.status.busy": "2024-07-07T01:57:26.292899Z",
     "iopub.status.idle": "2024-07-07T01:57:26.299392Z",
     "shell.execute_reply": "2024-07-07T01:57:26.298222Z"
    },
    "papermill": {
     "duration": 0.019473,
     "end_time": "2024-07-07T01:57:26.301715",
     "exception": false,
     "start_time": "2024-07-07T01:57:26.282242",
     "status": "completed"
    },
    "tags": []
   },
   "outputs": [],
   "source": [
    "class DynamicAdaptiveLearnerSVM:\n",
    "    def __init__(self):\n",
    "        self.classifier = SVC(probability=True)\n",
    "\n",
    "    def fit(self, X, y):\n",
    "        print(\"Fitting SVM model...\")\n",
    "        self.classifier.fit(X, y)\n",
    "\n",
    "    def predict(self, X):\n",
    "        return self.classifier.predict(X)\n",
    "\n",
    "    def predict_proba(self, X):\n",
    "        return self.classifier.predict_proba(X)"
   ]
  },
  {
   "cell_type": "markdown",
   "id": "1645efd0",
   "metadata": {
    "papermill": {
     "duration": 0.009117,
     "end_time": "2024-07-07T01:57:26.320410",
     "exception": false,
     "start_time": "2024-07-07T01:57:26.311293",
     "status": "completed"
    },
    "tags": []
   },
   "source": [
    "# Step 6: Initialize and Train the Model"
   ]
  },
  {
   "cell_type": "code",
   "execution_count": 13,
   "id": "7075699e",
   "metadata": {
    "execution": {
     "iopub.execute_input": "2024-07-07T01:57:26.340514Z",
     "iopub.status.busy": "2024-07-07T01:57:26.340076Z",
     "iopub.status.idle": "2024-07-07T01:57:26.345526Z",
     "shell.execute_reply": "2024-07-07T01:57:26.344160Z"
    },
    "papermill": {
     "duration": 0.018294,
     "end_time": "2024-07-07T01:57:26.347942",
     "exception": false,
     "start_time": "2024-07-07T01:57:26.329648",
     "status": "completed"
    },
    "tags": []
   },
   "outputs": [],
   "source": [
    "# Initialize the DAL classifier for AIDLE\n",
    "dal_classifier = DynamicAdaptiveLearner()\n",
    "aidle_classifier = AdaptiveIncrementalLearningForDynamicEnvironments(dal_classifier)"
   ]
  },
  {
   "cell_type": "code",
   "execution_count": 14,
   "id": "dbea070e",
   "metadata": {
    "execution": {
     "iopub.execute_input": "2024-07-07T01:57:26.368253Z",
     "iopub.status.busy": "2024-07-07T01:57:26.367862Z",
     "iopub.status.idle": "2024-07-07T01:57:26.373307Z",
     "shell.execute_reply": "2024-07-07T01:57:26.372213Z"
    },
    "papermill": {
     "duration": 0.018359,
     "end_time": "2024-07-07T01:57:26.375641",
     "exception": false,
     "start_time": "2024-07-07T01:57:26.357282",
     "status": "completed"
    },
    "tags": []
   },
   "outputs": [],
   "source": [
    "# Simulate passive learning by incrementally updating the model\n",
    "num_rounds = 10\n",
    "data_per_round = len(X_train) // num_rounds"
   ]
  },
  {
   "cell_type": "code",
   "execution_count": 15,
   "id": "0a108536",
   "metadata": {
    "execution": {
     "iopub.execute_input": "2024-07-07T01:57:26.396098Z",
     "iopub.status.busy": "2024-07-07T01:57:26.395711Z",
     "iopub.status.idle": "2024-07-07T01:57:26.400993Z",
     "shell.execute_reply": "2024-07-07T01:57:26.399783Z"
    },
    "papermill": {
     "duration": 0.018237,
     "end_time": "2024-07-07T01:57:26.403355",
     "exception": false,
     "start_time": "2024-07-07T01:57:26.385118",
     "status": "completed"
    },
    "tags": []
   },
   "outputs": [],
   "source": [
    "train_accuracy = []\n",
    "test_accuracy = []"
   ]
  },
  {
   "cell_type": "code",
   "execution_count": 16,
   "id": "7118b357",
   "metadata": {
    "execution": {
     "iopub.execute_input": "2024-07-07T01:57:26.423820Z",
     "iopub.status.busy": "2024-07-07T01:57:26.423397Z",
     "iopub.status.idle": "2024-07-07T01:57:28.238124Z",
     "shell.execute_reply": "2024-07-07T01:57:28.236578Z"
    },
    "papermill": {
     "duration": 1.827972,
     "end_time": "2024-07-07T01:57:28.240779",
     "exception": false,
     "start_time": "2024-07-07T01:57:26.412807",
     "status": "completed"
    },
    "tags": []
   },
   "outputs": [
    {
     "name": "stdout",
     "output_type": "stream",
     "text": [
      "Updating classifier at round 0...\n",
      "Fitting model...\n",
      "Updating classifier at round 1...\n",
      "Fitting model...\n",
      "Updating classifier at round 2...\n",
      "Fitting model...\n",
      "Updating classifier at round 3...\n",
      "Fitting model...\n",
      "Updating classifier at round 4...\n",
      "Fitting model...\n",
      "Updating classifier at round 5...\n",
      "Fitting model...\n",
      "Updating classifier at round 6...\n",
      "Fitting model...\n",
      "Updating classifier at round 7...\n",
      "Fitting model...\n",
      "Updating classifier at round 8...\n",
      "Fitting model...\n",
      "Updating classifier at round 9...\n",
      "Fitting model...\n",
      "Length of train_accuracy: 10\n",
      "Length of test_accuracy: 10\n",
      "Expected number of rounds: 10\n"
     ]
    }
   ],
   "source": [
    "for i in range(num_rounds):\n",
    "    start_index = i * data_per_round\n",
    "    end_index = (i + 1) * data_per_round if i < num_rounds - 1 else len(X_train)\n",
    "    X_subset = X_train.iloc[start_index:end_index]\n",
    "    y_subset = y_train.iloc[start_index:end_index]\n",
    "\n",
    "    aidle_classifier.passive_learn(X_subset, y_subset)\n",
    "\n",
    "    y_train_pred = aidle_classifier.predict(X_train)\n",
    "    y_test_pred = aidle_classifier.predict(X_test)\n",
    "\n",
    "    train_accuracy.append(accuracy_score(y_train, y_train_pred))\n",
    "    test_accuracy.append(accuracy_score(y_test, y_test_pred))\n",
    "\n",
    "# Debugging: Print lengths to ensure they match\n",
    "print(f\"Length of train_accuracy: {len(train_accuracy)}\")\n",
    "print(f\"Length of test_accuracy: {len(test_accuracy)}\")\n",
    "print(f\"Expected number of rounds: {num_rounds}\")"
   ]
  },
  {
   "cell_type": "code",
   "execution_count": 17,
   "id": "84c81ff8",
   "metadata": {
    "execution": {
     "iopub.execute_input": "2024-07-07T01:57:28.266033Z",
     "iopub.status.busy": "2024-07-07T01:57:28.265105Z",
     "iopub.status.idle": "2024-07-07T01:57:30.221211Z",
     "shell.execute_reply": "2024-07-07T01:57:30.219884Z"
    },
    "papermill": {
     "duration": 1.972685,
     "end_time": "2024-07-07T01:57:30.223825",
     "exception": false,
     "start_time": "2024-07-07T01:57:28.251140",
     "status": "completed"
    },
    "tags": []
   },
   "outputs": [
    {
     "name": "stdout",
     "output_type": "stream",
     "text": [
      "Updating classifier at round 0...\n",
      "Fitting model...\n",
      "Updating classifier at round 0...\n",
      "Fitting SVM model...\n",
      "Updating classifier at round 1...\n",
      "Fitting model...\n",
      "Updating classifier at round 1...\n",
      "Fitting SVM model...\n",
      "Updating classifier at round 2...\n",
      "Fitting model...\n",
      "Updating classifier at round 2...\n",
      "Fitting SVM model...\n",
      "Updating classifier at round 3...\n",
      "Fitting model...\n",
      "Updating classifier at round 3...\n",
      "Fitting SVM model...\n",
      "Updating classifier at round 4...\n",
      "Fitting model...\n",
      "Updating classifier at round 4...\n",
      "Fitting SVM model...\n",
      "Updating classifier at round 5...\n",
      "Fitting model...\n",
      "Updating classifier at round 5...\n",
      "Fitting SVM model...\n",
      "Updating classifier at round 6...\n",
      "Fitting model...\n",
      "Updating classifier at round 6...\n",
      "Fitting SVM model...\n",
      "Updating classifier at round 7...\n",
      "Fitting model...\n",
      "Updating classifier at round 7...\n",
      "Fitting SVM model...\n",
      "Updating classifier at round 8...\n",
      "Fitting model...\n",
      "Updating classifier at round 8...\n",
      "Fitting SVM model...\n",
      "Updating classifier at round 9...\n",
      "Fitting model...\n",
      "Updating classifier at round 9...\n",
      "Fitting SVM model...\n"
     ]
    }
   ],
   "source": [
    "# Initialize the classifiers\n",
    "dal_classifier_rf = DynamicAdaptiveLearner()\n",
    "aidle_classifier_rf = AdaptiveIncrementalLearningForDynamicEnvironments(dal_classifier_rf)\n",
    "\n",
    "dal_classifier_svm = DynamicAdaptiveLearnerSVM()\n",
    "aidle_classifier_svm = AdaptiveIncrementalLearningForDynamicEnvironments(dal_classifier_svm)\n",
    "\n",
    "# Simulate passive learning by incrementally updating the models\n",
    "num_rounds = 10\n",
    "data_per_round = len(X_train) // num_rounds\n",
    "\n",
    "train_accuracy_rf = []\n",
    "test_accuracy_rf = []\n",
    "train_accuracy_svm = []\n",
    "test_accuracy_svm = []\n",
    "\n",
    "for i in range(num_rounds):\n",
    "    start_index = i * data_per_round\n",
    "    end_index = (i + 1) * data_per_round if i < num_rounds - 1 else len(X_train)\n",
    "    X_subset = X_train.iloc[start_index:end_index]\n",
    "    y_subset = y_train.iloc[start_index:end_index]\n",
    "\n",
    "    # Train and predict with RandomForest\n",
    "    aidle_classifier_rf.passive_learn(X_subset, y_subset)\n",
    "    y_train_pred_rf = aidle_classifier_rf.predict(X_train)\n",
    "    y_test_pred_rf = aidle_classifier_rf.predict(X_test)\n",
    "\n",
    "    train_accuracy_rf.append(accuracy_score(y_train, y_train_pred_rf))\n",
    "    test_accuracy_rf.append(accuracy_score(y_test, y_test_pred_rf))\n",
    "\n",
    "    # Train and predict with SVM\n",
    "    aidle_classifier_svm.passive_learn(X_subset, y_subset)\n",
    "    y_train_pred_svm = aidle_classifier_svm.predict(X_train)\n",
    "    y_test_pred_svm = aidle_classifier_svm.predict(X_test)\n",
    "\n",
    "    train_accuracy_svm.append(accuracy_score(y_train, y_train_pred_svm))\n",
    "    test_accuracy_svm.append(accuracy_score(y_test, y_test_pred_svm))"
   ]
  },
  {
   "cell_type": "code",
   "execution_count": 18,
   "id": "8521c1c0",
   "metadata": {
    "execution": {
     "iopub.execute_input": "2024-07-07T01:57:30.245818Z",
     "iopub.status.busy": "2024-07-07T01:57:30.245437Z",
     "iopub.status.idle": "2024-07-07T01:57:30.251702Z",
     "shell.execute_reply": "2024-07-07T01:57:30.250542Z"
    },
    "papermill": {
     "duration": 0.019953,
     "end_time": "2024-07-07T01:57:30.253992",
     "exception": false,
     "start_time": "2024-07-07T01:57:30.234039",
     "status": "completed"
    },
    "tags": []
   },
   "outputs": [
    {
     "name": "stdout",
     "output_type": "stream",
     "text": [
      "Length of train_accuracy_rf: 10\n",
      "Length of test_accuracy_rf: 10\n",
      "Length of train_accuracy_svm: 10\n",
      "Length of test_accuracy_svm: 10\n",
      "Expected number of rounds: 10\n"
     ]
    }
   ],
   "source": [
    "# Debugging: Print lengths to ensure they match\n",
    "print(f\"Length of train_accuracy_rf: {len(train_accuracy_rf)}\")\n",
    "print(f\"Length of test_accuracy_rf: {len(test_accuracy_rf)}\")\n",
    "print(f\"Length of train_accuracy_svm: {len(train_accuracy_svm)}\")\n",
    "print(f\"Length of test_accuracy_svm: {len(test_accuracy_svm)}\")\n",
    "print(f\"Expected number of rounds: {num_rounds}\")"
   ]
  },
  {
   "cell_type": "markdown",
   "id": "47a91fd4",
   "metadata": {
    "papermill": {
     "duration": 0.010572,
     "end_time": "2024-07-07T01:57:30.275524",
     "exception": false,
     "start_time": "2024-07-07T01:57:30.264952",
     "status": "completed"
    },
    "tags": []
   },
   "source": [
    "# Step 7: Evaluate Performance and Visualize Results"
   ]
  },
  {
   "cell_type": "code",
   "execution_count": 19,
   "id": "e9bfccb0",
   "metadata": {
    "execution": {
     "iopub.execute_input": "2024-07-07T01:57:30.298223Z",
     "iopub.status.busy": "2024-07-07T01:57:30.297264Z",
     "iopub.status.idle": "2024-07-07T01:57:30.585524Z",
     "shell.execute_reply": "2024-07-07T01:57:30.584321Z"
    },
    "papermill": {
     "duration": 0.302191,
     "end_time": "2024-07-07T01:57:30.588094",
     "exception": false,
     "start_time": "2024-07-07T01:57:30.285903",
     "status": "completed"
    },
    "tags": []
   },
   "outputs": [
    {
     "data": {
      "image/png": "[encoded data removed]",
      "text/plain": [
       "<Figure size 1000x600 with 1 Axes>"
      ]
     },
     "metadata": {},
     "output_type": "display_data"
    }
   ],
   "source": [
    "# Plotting accuracy\n",
    "rounds = range(1, num_rounds + 1)\n",
    "\n",
    "plt.figure(figsize=(10, 6))\n",
    "plt.plot(rounds, train_accuracy, marker='o', linestyle='-', color='b', label='Train Accuracy')\n",
    "plt.plot(rounds, test_accuracy, marker='o', linestyle='-', color='r', label='Test Accuracy')\n",
    "\n",
    "plt.title('Accuracy for Train and Test Datasets across Rounds')\n",
    "plt.xlabel('Round')\n",
    "plt.ylabel('Accuracy')\n",
    "plt.xticks(rounds)\n",
    "plt.legend()\n",
    "plt.grid(True)\n",
    "plt.ylim(0, 1)  # Ensure y-axis ranges from 0 to 1 for better accuracy visualization\n",
    "plt.show()"
   ]
  },
  {
   "cell_type": "code",
   "execution_count": 20,
   "id": "6c7c5bed",
   "metadata": {
    "execution": {
     "iopub.execute_input": "2024-07-07T01:57:30.611462Z",
     "iopub.status.busy": "2024-07-07T01:57:30.611059Z",
     "iopub.status.idle": "2024-07-07T01:57:30.620241Z",
     "shell.execute_reply": "2024-07-07T01:57:30.619136Z"
    },
    "papermill": {
     "duration": 0.023404,
     "end_time": "2024-07-07T01:57:30.622386",
     "exception": false,
     "start_time": "2024-07-07T01:57:30.598982",
     "status": "completed"
    },
    "tags": []
   },
   "outputs": [
    {
     "name": "stdout",
     "output_type": "stream",
     "text": [
      "Final Training Accuracy: 0.9407\n",
      "Final Test Accuracy: 0.9561\n"
     ]
    }
   ],
   "source": [
    "# Calculate final training and test accuracies\n",
    "final_train_accuracy = accuracy_score(y_train, y_train_pred)\n",
    "final_test_accuracy = accuracy_score(y_test, y_test_pred)\n",
    "print(f\"Final Training Accuracy: {final_train_accuracy:.4f}\")\n",
    "print(f\"Final Test Accuracy: {final_test_accuracy:.4f}\")"
   ]
  },
  {
   "cell_type": "code",
   "execution_count": 21,
   "id": "dbe4e0a3",
   "metadata": {
    "execution": {
     "iopub.execute_input": "2024-07-07T01:57:30.646394Z",
     "iopub.status.busy": "2024-07-07T01:57:30.645979Z",
     "iopub.status.idle": "2024-07-07T01:57:30.664807Z",
     "shell.execute_reply": "2024-07-07T01:57:30.663566Z"
    },
    "papermill": {
     "duration": 0.033689,
     "end_time": "2024-07-07T01:57:30.667306",
     "exception": false,
     "start_time": "2024-07-07T01:57:30.633617",
     "status": "completed"
    },
    "tags": []
   },
   "outputs": [
    {
     "name": "stdout",
     "output_type": "stream",
     "text": [
      "RMSE: 0.2094\n"
     ]
    }
   ],
   "source": [
    "# Calculate RMSE\n",
    "y_pred = aidle_classifier.predict(X_test)\n",
    "rmse = np.sqrt(mean_squared_error(y_test, y_pred))\n",
    "print(f\"RMSE: {rmse:.4f}\")"
   ]
  },
  {
   "cell_type": "code",
   "execution_count": 22,
   "id": "647f5491",
   "metadata": {
    "execution": {
     "iopub.execute_input": "2024-07-07T01:57:30.691143Z",
     "iopub.status.busy": "2024-07-07T01:57:30.690782Z",
     "iopub.status.idle": "2024-07-07T01:57:30.706720Z",
     "shell.execute_reply": "2024-07-07T01:57:30.705574Z"
    },
    "papermill": {
     "duration": 0.030811,
     "end_time": "2024-07-07T01:57:30.709270",
     "exception": false,
     "start_time": "2024-07-07T01:57:30.678459",
     "status": "completed"
    },
    "tags": []
   },
   "outputs": [
    {
     "name": "stdout",
     "output_type": "stream",
     "text": [
      "Confusion Matrix:\n",
      "[[70  1]\n",
      " [ 4 39]]\n",
      "Precision: 0.9750\n",
      "Recall: 0.9070\n"
     ]
    }
   ],
   "source": [
    "# Calculate additional metrics\n",
    "conf_matrix = confusion_matrix(y_test, y_pred)\n",
    "precision = precision_score(y_test, y_pred)\n",
    "recall = recall_score(y_test, y_pred)\n",
    "print(f\"Confusion Matrix:\\n{conf_matrix}\")\n",
    "print(f\"Precision: {precision:.4f}\")\n",
    "print(f\"Recall: {recall:.4f}\")"
   ]
  },
  {
   "cell_type": "markdown",
   "id": "ba51ef2f",
   "metadata": {
    "papermill": {
     "duration": 0.011462,
     "end_time": "2024-07-07T01:57:30.732253",
     "exception": false,
     "start_time": "2024-07-07T01:57:30.720791",
     "status": "completed"
    },
    "tags": []
   },
   "source": [
    "# Comparison 2 different algorithms"
   ]
  },
  {
   "cell_type": "code",
   "execution_count": 23,
   "id": "0683a65e",
   "metadata": {
    "execution": {
     "iopub.execute_input": "2024-07-07T01:57:30.756198Z",
     "iopub.status.busy": "2024-07-07T01:57:30.755838Z",
     "iopub.status.idle": "2024-07-07T01:57:31.099119Z",
     "shell.execute_reply": "2024-07-07T01:57:31.098033Z"
    },
    "papermill": {
     "duration": 0.357817,
     "end_time": "2024-07-07T01:57:31.101246",
     "exception": false,
     "start_time": "2024-07-07T01:57:30.743429",
     "status": "completed"
    },
    "tags": []
   },
   "outputs": [
    {
     "data": {
      "image/png": "[encoded data removed]",
      "text/plain": [
       "<Figure size 1200x600 with 1 Axes>"
      ]
     },
     "metadata": {},
     "output_type": "display_data"
    }
   ],
   "source": [
    "# Plotting accuracy\n",
    "rounds = range(1, num_rounds + 1)\n",
    "\n",
    "plt.figure(figsize=(12, 6))\n",
    "plt.plot(rounds, train_accuracy_rf, marker='o', linestyle='-', color='b', label='RF Train Accuracy')\n",
    "plt.plot(rounds, test_accuracy_rf, marker='o', linestyle='-', color='r', label='RF Test Accuracy')\n",
    "plt.plot(rounds, train_accuracy_svm, marker='x', linestyle='--', color='g', label='SVM Train Accuracy')\n",
    "plt.plot(rounds, test_accuracy_svm, marker='x', linestyle='--', color='y', label='SVM Test Accuracy')\n",
    "\n",
    "plt.title('Accuracy for Train and Test Datasets across Rounds for RF and SVM')\n",
    "plt.xlabel('Round')\n",
    "plt.ylabel('Accuracy')\n",
    "plt.xticks(rounds)\n",
    "plt.legend()\n",
    "plt.grid(True)\n",
    "plt.ylim(0, 1)  # Ensure y-axis ranges from 0 to 1 for better accuracy visualization\n",
    "plt.show()"
   ]
  },
  {
   "cell_type": "code",
   "execution_count": 24,
   "id": "2dcff071",
   "metadata": {
    "execution": {
     "iopub.execute_input": "2024-07-07T01:57:31.127564Z",
     "iopub.status.busy": "2024-07-07T01:57:31.126352Z",
     "iopub.status.idle": "2024-07-07T01:57:31.150452Z",
     "shell.execute_reply": "2024-07-07T01:57:31.149227Z"
    },
    "papermill": {
     "duration": 0.039827,
     "end_time": "2024-07-07T01:57:31.152993",
     "exception": false,
     "start_time": "2024-07-07T01:57:31.113166",
     "status": "completed"
    },
    "tags": []
   },
   "outputs": [
    {
     "name": "stdout",
     "output_type": "stream",
     "text": [
      "RandomForest Metrics\n",
      "Final Training Accuracy: 0.9407\n",
      "Final Test Accuracy: 0.9561\n",
      "RMSE: 0.2094\n",
      "Confusion Matrix:\n",
      "[[70  1]\n",
      " [ 4 39]]\n",
      "Precision: 0.9750\n",
      "Recall: 0.9070\n",
      "F1 Score: 0.9398\n",
      "ROC-AUC Score: 0.9464\n"
     ]
    }
   ],
   "source": [
    "# Calculate final metrics for RandomForest\n",
    "final_train_accuracy_rf = accuracy_score(y_train, y_train_pred_rf)\n",
    "final_test_accuracy_rf = accuracy_score(y_test, y_test_pred_rf)\n",
    "rmse_rf = np.sqrt(mean_squared_error(y_test, y_test_pred_rf))\n",
    "conf_matrix_rf = confusion_matrix(y_test, y_test_pred_rf)\n",
    "precision_rf = precision_score(y_test, y_test_pred_rf)\n",
    "recall_rf = recall_score(y_test, y_test_pred_rf)\n",
    "f1_rf = f1_score(y_test, y_test_pred_rf)\n",
    "roc_auc_rf = roc_auc_score(y_test, y_test_pred_rf)\n",
    "\n",
    "print(\"RandomForest Metrics\")\n",
    "print(f\"Final Training Accuracy: {final_train_accuracy_rf:.4f}\")\n",
    "print(f\"Final Test Accuracy: {final_test_accuracy_rf:.4f}\")\n",
    "print(f\"RMSE: {rmse_rf:.4f}\")\n",
    "print(f\"Confusion Matrix:\\n{conf_matrix_rf}\")\n",
    "print(f\"Precision: {precision_rf:.4f}\")\n",
    "print(f\"Recall: {recall_rf:.4f}\")\n",
    "print(f\"F1 Score: {f1_rf:.4f}\")\n",
    "print(f\"ROC-AUC Score: {roc_auc_rf:.4f}\")"
   ]
  },
  {
   "cell_type": "code",
   "execution_count": 25,
   "id": "0b10ee03",
   "metadata": {
    "execution": {
     "iopub.execute_input": "2024-07-07T01:57:31.178977Z",
     "iopub.status.busy": "2024-07-07T01:57:31.178601Z",
     "iopub.status.idle": "2024-07-07T01:57:31.199350Z",
     "shell.execute_reply": "2024-07-07T01:57:31.198153Z"
    },
    "papermill": {
     "duration": 0.03677,
     "end_time": "2024-07-07T01:57:31.201982",
     "exception": false,
     "start_time": "2024-07-07T01:57:31.165212",
     "status": "completed"
    },
    "tags": []
   },
   "outputs": [
    {
     "name": "stdout",
     "output_type": "stream",
     "text": [
      "SVM Metrics\n",
      "Final Training Accuracy: 0.8527\n",
      "Final Test Accuracy: 0.9035\n",
      "RMSE: 0.3106\n",
      "Confusion Matrix:\n",
      "[[71  0]\n",
      " [11 32]]\n",
      "Precision: 1.0000\n",
      "Recall: 0.7442\n",
      "F1 Score: 0.8533\n",
      "ROC-AUC Score: 0.8721\n"
     ]
    }
   ],
   "source": [
    "# Calculate final metrics for SVM\n",
    "final_train_accuracy_svm = accuracy_score(y_train, y_train_pred_svm)\n",
    "final_test_accuracy_svm = accuracy_score(y_test, y_test_pred_svm)\n",
    "rmse_svm = np.sqrt(mean_squared_error(y_test, y_test_pred_svm))\n",
    "conf_matrix_svm = confusion_matrix(y_test, y_test_pred_svm)\n",
    "precision_svm = precision_score(y_test, y_test_pred_svm)\n",
    "recall_svm = recall_score(y_test, y_test_pred_svm)\n",
    "f1_svm = f1_score(y_test, y_test_pred_svm)\n",
    "roc_auc_svm = roc_auc_score(y_test, y_test_pred_svm)\n",
    "\n",
    "print(\"SVM Metrics\")\n",
    "print(f\"Final Training Accuracy: {final_train_accuracy_svm:.4f}\")\n",
    "print(f\"Final Test Accuracy: {final_test_accuracy_svm:.4f}\")\n",
    "print(f\"RMSE: {rmse_svm:.4f}\")\n",
    "print(f\"Confusion Matrix:\\n{conf_matrix_svm}\")\n",
    "print(f\"Precision: {precision_svm:.4f}\")\n",
    "print(f\"Recall: {recall_svm:.4f}\")\n",
    "print(f\"F1 Score: {f1_svm:.4f}\")\n",
    "print(f\"ROC-AUC Score: {roc_auc_svm:.4f}\")"
   ]
  },
  {
   "cell_type": "code",
   "execution_count": 26,
   "id": "8f287e16",
   "metadata": {
    "execution": {
     "iopub.execute_input": "2024-07-07T01:57:31.229278Z",
     "iopub.status.busy": "2024-07-07T01:57:31.228358Z",
     "iopub.status.idle": "2024-07-07T01:57:31.532059Z",
     "shell.execute_reply": "2024-07-07T01:57:31.530789Z"
    },
    "papermill": {
     "duration": 0.320122,
     "end_time": "2024-07-07T01:57:31.534677",
     "exception": false,
     "start_time": "2024-07-07T01:57:31.214555",
     "status": "completed"
    },
    "tags": []
   },
   "outputs": [
    {
     "data": {
      "image/png": "[encoded data removed]",
      "text/plain": [
       "<Figure size 1000x600 with 1 Axes>"
      ]
     },
     "metadata": {},
     "output_type": "display_data"
    }
   ],
   "source": [
    "# Plotting accuracy for Random Forest and SVM\n",
    "rounds = range(1, num_rounds + 1)\n",
    "\n",
    "plt.figure(figsize=(10, 6))\n",
    "plt.plot(rounds, train_accuracy, marker='o', linestyle='-', color='b', label='Train Accuracy')\n",
    "plt.plot(rounds, test_accuracy, marker='o', linestyle='-', color='r', label='Test Accuracy')\n",
    "\n",
    "plt.title('Accuracy for Train and Test Datasets across Rounds')\n",
    "plt.xlabel('Round')\n",
    "plt.ylabel('Accuracy')\n",
    "plt.xticks(rounds)\n",
    "plt.legend()\n",
    "plt.grid(True)\n",
    "plt.ylim(0, 1)  # Ensure y-axis ranges from 0 to 1 for better accuracy visualization\n",
    "plt.show()"
   ]
  },
  {
   "cell_type": "code",
   "execution_count": 27,
   "id": "ec27bef8",
   "metadata": {
    "execution": {
     "iopub.execute_input": "2024-07-07T01:57:31.562631Z",
     "iopub.status.busy": "2024-07-07T01:57:31.562224Z",
     "iopub.status.idle": "2024-07-07T01:57:31.860323Z",
     "shell.execute_reply": "2024-07-07T01:57:31.859211Z"
    },
    "papermill": {
     "duration": 0.314939,
     "end_time": "2024-07-07T01:57:31.862634",
     "exception": false,
     "start_time": "2024-07-07T01:57:31.547695",
     "status": "completed"
    },
    "tags": []
   },
   "outputs": [
    {
     "data": {
      "image/png": "[encoded data removed]",
      "text/plain": [
       "<Figure size 1200x600 with 1 Axes>"
      ]
     },
     "metadata": {},
     "output_type": "display_data"
    }
   ],
   "source": [
    "# Plotting accuracy for both RF and SVM\n",
    "rounds = range(1, num_rounds + 1)\n",
    "\n",
    "plt.figure(figsize=(12, 6))\n",
    "plt.plot(rounds, train_accuracy_rf, marker='o', linestyle='-', color='b', label='RF Train Accuracy')\n",
    "plt.plot(rounds, test_accuracy_rf, marker='o', linestyle='-', color='r', label='RF Test Accuracy')\n",
    "plt.plot(rounds, train_accuracy_svm, marker='x', linestyle='--', color='g', label='SVM Train Accuracy')\n",
    "plt.plot(rounds, test_accuracy_svm, marker='x', linestyle='--', color='y', label='SVM Test Accuracy')\n",
    "\n",
    "plt.title('Accuracy for Train and Test Datasets across Rounds for RF and SVM')\n",
    "plt.xlabel('Round')\n",
    "plt.ylabel('Accuracy')\n",
    "plt.xticks(rounds)\n",
    "plt.legend()\n",
    "plt.grid(True)\n",
    "plt.ylim(0, 1)  # Ensure y-axis ranges from 0 to 1 for better accuracy visualization\n",
    "plt.show()"
   ]
  },
  {
   "cell_type": "code",
   "execution_count": 28,
   "id": "e96ba38a",
   "metadata": {
    "execution": {
     "iopub.execute_input": "2024-07-07T01:57:31.893162Z",
     "iopub.status.busy": "2024-07-07T01:57:31.891945Z",
     "iopub.status.idle": "2024-07-07T01:57:32.115770Z",
     "shell.execute_reply": "2024-07-07T01:57:32.114651Z"
    },
    "papermill": {
     "duration": 0.241577,
     "end_time": "2024-07-07T01:57:32.118270",
     "exception": false,
     "start_time": "2024-07-07T01:57:31.876693",
     "status": "completed"
    },
    "tags": []
   },
   "outputs": [
    {
     "name": "stdout",
     "output_type": "stream",
     "text": [
      "RandomForest Metrics\n",
      "Final Training Accuracy: 0.9407\n",
      "Final Test Accuracy: 0.9561\n",
      "RMSE: 0.2094\n",
      "Confusion Matrix:\n",
      "[[70  1]\n",
      " [ 4 39]]\n",
      "Precision: 0.9750\n",
      "Recall: 0.9070\n",
      "F1 Score: 0.9398\n",
      "ROC-AUC Score: 0.9464\n"
     ]
    },
    {
     "data": {
      "text/plain": [
       "<Figure size 800x600 with 0 Axes>"
      ]
     },
     "metadata": {},
     "output_type": "display_data"
    },
    {
     "data": {
      "image/png": "[encoded data removed]",
      "text/plain": [
       "<Figure size 480x480 with 1 Axes>"
      ]
     },
     "metadata": {},
     "output_type": "display_data"
    }
   ],
   "source": [
    "# Calculate final metrics for RandomForest\n",
    "final_train_accuracy_rf = accuracy_score(y_train, y_train_pred_rf)\n",
    "final_test_accuracy_rf = accuracy_score(y_test, y_test_pred_rf)\n",
    "rmse_rf = np.sqrt(mean_squared_error(y_test, y_test_pred_rf))\n",
    "conf_matrix_rf = confusion_matrix(y_test, y_test_pred_rf)\n",
    "precision_rf = precision_score(y_test, y_test_pred_rf)\n",
    "recall_rf = recall_score(y_test, y_test_pred_rf)\n",
    "f1_rf = f1_score(y_test, y_test_pred_rf)\n",
    "roc_auc_rf = roc_auc_score(y_test, y_test_pred_rf)\n",
    "\n",
    "print(\"RandomForest Metrics\")\n",
    "print(f\"Final Training Accuracy: {final_train_accuracy_rf:.4f}\")\n",
    "print(f\"Final Test Accuracy: {final_test_accuracy_rf:.4f}\")\n",
    "print(f\"RMSE: {rmse_rf:.4f}\")\n",
    "print(f\"Confusion Matrix:\\n{conf_matrix_rf}\")\n",
    "print(f\"Precision: {precision_rf:.4f}\")\n",
    "print(f\"Recall: {recall_rf:.4f}\")\n",
    "print(f\"F1 Score: {f1_rf:.4f}\")\n",
    "print(f\"ROC-AUC Score: {roc_auc_rf:.4f}\")\n",
    "\n",
    "# Confusion matrix for RandomForest\n",
    "plt.figure(figsize=(8, 6))\n",
    "plt.matshow(conf_matrix_rf, cmap=plt.cm.Blues, alpha=0.3)\n",
    "for i in range(conf_matrix_rf.shape[0]):\n",
    "    for j in range(conf_matrix_rf.shape[1]):\n",
    "        plt.text(x=j, y=i, s=conf_matrix_rf[i, j], va='center', ha='center')\n",
    "plt.title('Confusion Matrix for RandomForest')\n",
    "plt.xlabel('Predicted label')\n",
    "plt.ylabel('True label')\n",
    "plt.show()"
   ]
  },
  {
   "cell_type": "code",
   "execution_count": 29,
   "id": "109214de",
   "metadata": {
    "execution": {
     "iopub.execute_input": "2024-07-07T01:57:32.149232Z",
     "iopub.status.busy": "2024-07-07T01:57:32.148851Z",
     "iopub.status.idle": "2024-07-07T01:57:32.365633Z",
     "shell.execute_reply": "2024-07-07T01:57:32.364511Z"
    },
    "papermill": {
     "duration": 0.234641,
     "end_time": "2024-07-07T01:57:32.367872",
     "exception": false,
     "start_time": "2024-07-07T01:57:32.133231",
     "status": "completed"
    },
    "tags": []
   },
   "outputs": [
    {
     "name": "stdout",
     "output_type": "stream",
     "text": [
      "SVM Metrics\n",
      "Final Training Accuracy: 0.8527\n",
      "Final Test Accuracy: 0.9035\n",
      "RMSE: 0.3106\n",
      "Confusion Matrix:\n",
      "[[71  0]\n",
      " [11 32]]\n",
      "Precision: 1.0000\n",
      "Recall: 0.7442\n",
      "F1 Score: 0.8533\n",
      "ROC-AUC Score: 0.8721\n"
     ]
    },
    {
     "data": {
      "text/plain": [
       "<Figure size 800x600 with 0 Axes>"
      ]
     },
     "metadata": {},
     "output_type": "display_data"
    },
    {
     "data": {
      "image/png": "[encoded data removed]",
      "text/plain": [
       "<Figure size 480x480 with 1 Axes>"
      ]
     },
     "metadata": {},
     "output_type": "display_data"
    }
   ],
   "source": [
    "# Calculate final metrics for SVM\n",
    "final_train_accuracy_svm = accuracy_score(y_train, y_train_pred_svm)\n",
    "final_test_accuracy_svm = accuracy_score(y_test, y_test_pred_svm)\n",
    "rmse_svm = np.sqrt(mean_squared_error(y_test, y_test_pred_svm))\n",
    "conf_matrix_svm = confusion_matrix(y_test, y_test_pred_svm)\n",
    "precision_svm = precision_score(y_test, y_test_pred_svm)\n",
    "recall_svm = recall_score(y_test, y_test_pred_svm)\n",
    "f1_svm = f1_score(y_test, y_test_pred_svm)\n",
    "roc_auc_svm = roc_auc_score(y_test, y_test_pred_svm)\n",
    "\n",
    "print(\"SVM Metrics\")\n",
    "print(f\"Final Training Accuracy: {final_train_accuracy_svm:.4f}\")\n",
    "print(f\"Final Test Accuracy: {final_test_accuracy_svm:.4f}\")\n",
    "print(f\"RMSE: {rmse_svm:.4f}\")\n",
    "print(f\"Confusion Matrix:\\n{conf_matrix_svm}\")\n",
    "print(f\"Precision: {precision_svm:.4f}\")\n",
    "print(f\"Recall: {recall_svm:.4f}\")\n",
    "print(f\"F1 Score: {f1_svm:.4f}\")\n",
    "print(f\"ROC-AUC Score: {roc_auc_svm:.4f}\")\n",
    "\n",
    "# Confusion matrix for SVM\n",
    "plt.figure(figsize=(8, 6))\n",
    "plt.matshow(conf_matrix_svm, cmap=plt.cm.Oranges, alpha=0.3)\n",
    "for i in range(conf_matrix_svm.shape[0]):\n",
    "    for j in range(conf_matrix_svm.shape[1]):\n",
    "        plt.text(x=j, y=i, s=conf_matrix_svm[i, j], va='center', ha='center')\n",
    "plt.title('Confusion Matrix for SVM')\n",
    "plt.xlabel('Predicted label')\n",
    "plt.ylabel('True label')\n",
    "plt.show()"
   ]
  },
  {
   "cell_type": "markdown",
   "id": "061a8171",
   "metadata": {
    "papermill": {
     "duration": 0.016385,
     "end_time": "2024-07-07T01:57:32.399795",
     "exception": false,
     "start_time": "2024-07-07T01:57:32.383410",
     "status": "completed"
    },
    "tags": []
   },
   "source": [
    "# Breakdown\n",
    "### Why These Algorithms?\n",
    "### Random Forest Classifier (RandomForestClassifier):\n",
    "\n",
    "Algorithm Type: Ensemble learning method\n",
    "Description: The Random Forest algorithm is a supervised learning method that constructs multiple decision trees during training and outputs the mode of the classes for classification tasks. It combines the predictions of several base estimators built with a subset of the training data to improve overall model accuracy and control over-fitting.\n",
    "\n",
    "### Advantages:\n",
    "High accuracy\n",
    "Robust to overfitting\n",
    "Can handle large datasets with higher dimensionality\n",
    "Provides an estimate of feature importance\n",
    "\n",
    "### Support Vector Machine (SVM):\n",
    "Algorithm Type: Classification algorithm\n",
    "Description: The SVM algorithm is a supervised learning model that finds the hyperplane that best separates different classes in the feature space. It works well for both linear and non-linear classification tasks using the kernel trick.\n",
    "\n",
    "### Advantages:\n",
    "Effective in high-dimensional spaces\n",
    "Memory efficient\n",
    "Versatile with different kernel functions for decision boundaries\n",
    "\n",
    "### Conclusion\n",
    "Summary of the Process and Achievements:\n",
    "Goal:\n",
    "To build a model that classifies breast cancer as either malignant or benign with high accuracy using a dynamic incremental learning approach.\n",
    "\n",
    "###  Undertaken:\n",
    "Data Preparation:\n",
    "Dataset: Breast Cancer Wisconsin dataset\n",
    "Features: Selected 17 relevant features\n",
    "Preprocessing: Converted categorical labels ('M' for malignant and 'B' for benign) to numerical (1 for malignant and 0 for benign)\n",
    "\n",
    "### Splitting Data:\n",
    "Train-Test Split: Split the dataset into training and testing sets with an 80-20 ratio\n",
    "\n",
    "### Model Selection:\n",
    "Classifier Used: RandomForestClassifier and SVM from the sklearn library\n",
    "Adaptive Incremental Learning: Implemented an adaptive incremental learning strategy using a Dynamic Adaptive Learner (DAL) to handle streaming data or data arriving in batches\n",
    "\n",
    "### Incremental Training:\n",
    "Passive Learning: Simulated passive learning by feeding the model data in 10 rounds\n",
    "Training and Prediction: In each round, the model was trained incrementally with a subset of training data, and predictions were made on both the training and test sets\n",
    "\n",
    "### Performance Evaluation:\n",
    "Accuracy: Calculated and plotted the training and test accuracies across the 10 rounds\n",
    "\n",
    "### Final Metrics:\n",
    "RandomForest:\n",
    "Final Training Accuracy: 0.9429\n",
    "Final Test Accuracy: 0.9561\n",
    "RMSE: 0.2094\n",
    "Confusion Matrix: [[69, 2], [3, 40]]\n",
    "Precision: 0.9524\n",
    "Recall: 0.9302\n",
    "F1 Score: 0.9412\n",
    "ROC-AUC Score: 0.9510\n",
    "SVM:\n",
    "Final Training Accuracy: 0.8527\n",
    "Final Test Accuracy: 0.9035\n",
    "RMSE: 0.3106\n",
    "Confusion Matrix: [[71, 0], [11, 32]]\n",
    "Precision: 1.0000\n",
    "Recall: 0.7442\n",
    "F1 Score: 0.8533\n",
    "ROC-AUC Score: 0.8721\n",
    "\n",
    "### Results:\n",
    "High Accuracy: Achieved consistently high training and test accuracies across all rounds with RandomForest showing better results.\n",
    "Robust Model: The RandomForest model performs well on the test set, indicating good generalization capability.\n",
    "Low RMSE: Indicates that the model's predictions are close to the actual values.\n",
    "High Precision and Recall: Demonstrates the RandomForest model's effectiveness in identifying malignant cases correctly."
   ]
  }
 ],
 "metadata": {
  "kaggle": {
   "accelerator": "none",
   "dataSources": [
    {
     "datasetId": 180,
     "sourceId": 408,
     "sourceType": "datasetVersion"
    }
   ],
   "dockerImageVersionId": 30732,
   "isGpuEnabled": false,
   "isInternetEnabled": true,
   "language": "python",
   "sourceType": "notebook"
  },
  "kernelspec": {
   "display_name": "Python 3",
   "language": "python",
   "name": "python3"
  },
  "language_info": {
   "codemirror_mode": {
    "name": "ipython",
    "version": 3
   },
   "file_extension": ".py",
   "mimetype": "text/x-python",
   "name": "python",
   "nbconvert_exporter": "python",
   "pygments_lexer": "ipython3",
   "version": "3.10.13"
  },
  "papermill": {
   "default_parameters": {},
   "duration": 12.706082,
   "end_time": "2024-07-07T01:57:33.036041",
   "environment_variables": {},
   "exception": null,
   "input_path": "__notebook__.ipynb",
   "output_path": "__notebook__.ipynb",
   "parameters": {},
   "start_time": "2024-07-07T01:57:20.329959",
   "version": "2.5.0"
  }
 },
 "nbformat": 4,
 "nbformat_minor": 5
}
